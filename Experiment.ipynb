{
 "cells": [
  {
   "cell_type": "code",
   "execution_count": 8,
   "metadata": {},
   "outputs": [],
   "source": [
    "import fitz  # PyMuPDF\n",
    "\n",
    "def enumerate_words(pdf_path):\n",
    "    doc = fitz.open(pdf_path)\n",
    "    words_with_ids = []\n",
    "    word_id = 1\n",
    "\n",
    "    for page_num in range(len(doc)):\n",
    "        page = doc.load_page(page_num)\n",
    "        words = page.get_text(\"words\")  # list of words on the page\n",
    "\n",
    "        for word in words:\n",
    "            words_with_ids.append({\n",
    "                \"id\": word_id,\n",
    "                \"text\": word[4],\n",
    "                \"bbox\": word[:4],  # The bounding box of the word\n",
    "                \"page_num\": page_num\n",
    "            })\n",
    "            word_id += 1\n",
    "\n",
    "    return words_with_ids\n",
    "\n",
    "# Extract and enumerate words\n",
    "pdf_path = \"Eren CV Muster.docx.pdf\"\n",
    "words_with_ids = enumerate_words(pdf_path)\n"
   ]
  },
  {
   "cell_type": "code",
   "execution_count": 9,
   "metadata": {},
   "outputs": [],
   "source": [
    "def replace_word(pdf_path, output_pdf_path, word_id, replacement_text):\n",
    "    doc = fitz.open(pdf_path)\n",
    "    words_with_ids = enumerate_words(pdf_path)\n",
    "\n",
    "    for word_info in words_with_ids:\n",
    "        if word_info[\"id\"] == word_id:\n",
    "            page = doc.load_page(word_info[\"page_num\"])\n",
    "            bbox = word_info[\"bbox\"]\n",
    "            rect = fitz.Rect(bbox)\n",
    "            page.add_redact_annot(rect, text=replacement_text)\n",
    "            page.apply_redactions()\n",
    "\n",
    "    doc.save(output_pdf_path)\n",
    "\n",
    "# Replace a word in the PDF\n",
    "replace_word(\"Eren CV Muster.docx.pdf\", \"updated.pdf\", 1, \"new text\")\n"
   ]
  },
  {
   "cell_type": "code",
   "execution_count": null,
   "metadata": {},
   "outputs": [],
   "source": []
  }
 ],
 "metadata": {
  "kernelspec": {
   "display_name": "torch",
   "language": "python",
   "name": "python3"
  },
  "language_info": {
   "codemirror_mode": {
    "name": "ipython",
    "version": 3
   },
   "file_extension": ".py",
   "mimetype": "text/x-python",
   "name": "python",
   "nbconvert_exporter": "python",
   "pygments_lexer": "ipython3",
   "version": "3.11.3"
  }
 },
 "nbformat": 4,
 "nbformat_minor": 2
}
